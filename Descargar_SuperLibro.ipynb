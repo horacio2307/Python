{
 "cells": [
  {
   "cell_type": "code",
   "execution_count": 1,
   "metadata": {},
   "outputs": [],
   "source": [
    "import pytube\n",
    "def descarga(video_url):\n",
    "    yt=pytube.YouTube(video_url)\n",
    "    print(yt.title)\n",
    "    video=yt.streams.filter(res = \"360p\").first().download(r'C:\\Users\\horac\\Videos')"
   ]
  }
 ],
 "metadata": {
  "interpreter": {
   "hash": "b0315d2503287fe28d423986d9df57cc636c96d352d856ed8482261c6a0650c5"
  },
  "kernelspec": {
   "display_name": "Python 3.8.7 64-bit",
   "name": "python3"
  },
  "language_info": {
   "codemirror_mode": {
    "name": "ipython",
    "version": 3
   },
   "file_extension": ".py",
   "mimetype": "text/x-python",
   "name": "python",
   "nbconvert_exporter": "python",
   "pygments_lexer": "ipython3",
   "version": "3.8.7"
  },
  "orig_nbformat": 4
 },
 "nbformat": 4,
 "nbformat_minor": 2
}
