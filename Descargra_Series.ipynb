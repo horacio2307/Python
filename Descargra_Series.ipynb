{
 "metadata": {
  "language_info": {
   "codemirror_mode": {
    "name": "ipython",
    "version": 3
   },
   "file_extension": ".py",
   "mimetype": "text/x-python",
   "name": "python",
   "nbconvert_exporter": "python",
   "pygments_lexer": "ipython3",
   "version": "3.8.7"
  },
  "orig_nbformat": 2,
  "kernelspec": {
   "name": "python387jvsc74a57bd0b0315d2503287fe28d423986d9df57cc636c96d352d856ed8482261c6a0650c5",
   "display_name": "Python 3.8.7 64-bit ('Python38')"
  },
  "metadata": {
   "interpreter": {
    "hash": "b0315d2503287fe28d423986d9df57cc636c96d352d856ed8482261c6a0650c5"
   }
  }
 },
 "nbformat": 4,
 "nbformat_minor": 2,
 "cells": [
  {
   "cell_type": "code",
   "execution_count": 3,
   "metadata": {},
   "outputs": [],
   "source": [
    "import pytube\n",
    "def descarga(video_url):\n",
    "    yt=pytube.YouTube(video_url)\n",
    "    print(yt.title)\n",
    "    video=yt.streams.filter(res = \"360p\").first().download(r'C:\\Users\\horac\\Videos')\n",
    "#video_url = \"https://www.youtube.com/watch?v=FbWoj7V3l5c&t=1s\" "
   ]
  },
  {
   "cell_type": "code",
   "execution_count": null,
   "metadata": {},
   "outputs": [],
   "source": [
    "array_urls = [\"https://www.youtube.com/watch?v=FbWoj7V3l5c&list=PLbjIeTXiRePe_L9f51FRYovadLyErVxio\",\n",
    "\"https://www.youtube.com/watch?v=O4Ai0XtuQ2c&list=PLbjIeTXiRePe_L9f51FRYovadLyErVxio&index=2\",\n",
    "\"https://www.youtube.com/watch?v=4vN-IIcTBH8&list=PLbjIeTXiRePe_L9f51FRYovadLyErVxio&index=3\",\n",
    "\"https://www.youtube.com/watch?v=htj1xGj6qJs&list=PLbjIeTXiRePe_L9f51FRYovadLyErVxio&index=4\",\n",
    "\"https://www.youtube.com/watch?v=xitXrMINtdk&list=PLbjIeTXiRePe_L9f51FRYovadLyErVxio&index=5\"\n",
    "]"
   ]
  },
  {
   "cell_type": "code",
   "execution_count": null,
   "metadata": {},
   "outputs": [],
   "source": [
    "vector_urls = []\n",
    "with open(\"Bakugan2.0_urls.txt\") as read_file:\n",
    "    lineas = read_file.readlines()\n",
    "    for linea in lineas:\n",
    "        vector_urls.append(linea.strip('\\n'))"
   ]
  },
  {
   "cell_type": "code",
   "execution_count": null,
   "metadata": {},
   "outputs": [],
   "source": [
    "vector_urls"
   ]
  },
  {
   "cell_type": "code",
   "execution_count": null,
   "metadata": {},
   "outputs": [],
   "source": [
    "vector_urls[9]"
   ]
  },
  {
   "cell_type": "code",
   "execution_count": null,
   "metadata": {},
   "outputs": [],
   "source": [
    "for i in range(0,20):\n",
    "    print(vector_urls[i])"
   ]
  },
  {
   "cell_type": "code",
   "execution_count": null,
   "metadata": {},
   "outputs": [],
   "source": [
    "for i in range(45,52):\n",
    "    print(vector_urls[i])\n",
    "    descarga(vector_urls[i])"
   ]
  },
  {
   "cell_type": "code",
   "execution_count": 4,
   "metadata": {},
   "outputs": [
    {
     "output_type": "stream",
     "name": "stdout",
     "text": [
      "DIGIMON LA PELICULA LATINO\n"
     ]
    }
   ],
   "source": [
    "x = \"https://www.youtube.com/watch?v=oW99qiy9V9g\"\n",
    "descarga(x)"
   ]
  },
  {
   "cell_type": "code",
   "execution_count": null,
   "metadata": {},
   "outputs": [],
   "source": []
  }
 ]
}