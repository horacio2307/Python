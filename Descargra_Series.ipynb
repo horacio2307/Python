{
 "cells": [
  {
   "cell_type": "code",
   "execution_count": 3,
   "metadata": {},
   "outputs": [],
   "source": [
    "import pytube\n",
    "def descarga(video_url):\n",
    "    yt=pytube.YouTube(video_url)\n",
    "    print(yt.title)\n",
    "    video=yt.streams.filter(res = \"360p\").first().download(r'C:\\Users\\horac\\Videos')\n",
    "#video_url = \"https://www.youtube.com/watch?v=FbWoj7V3l5c&t=1s\" "
   ]
  },
  {
   "cell_type": "code",
   "execution_count": null,
   "metadata": {},
   "outputs": [],
   "source": [
    "array_urls = [\"https://www.youtube.com/watch?v=FbWoj7V3l5c&list=PLbjIeTXiRePe_L9f51FRYovadLyErVxio\",\n",
    "\"https://www.youtube.com/watch?v=O4Ai0XtuQ2c&list=PLbjIeTXiRePe_L9f51FRYovadLyErVxio&index=2\",\n",
    "\"https://www.youtube.com/watch?v=4vN-IIcTBH8&list=PLbjIeTXiRePe_L9f51FRYovadLyErVxio&index=3\",\n",
    "\"https://www.youtube.com/watch?v=htj1xGj6qJs&list=PLbjIeTXiRePe_L9f51FRYovadLyErVxio&index=4\",\n",
    "\"https://www.youtube.com/watch?v=xitXrMINtdk&list=PLbjIeTXiRePe_L9f51FRYovadLyErVxio&index=5\"\n",
    "]"
   ]
  },
  {
   "cell_type": "code",
   "execution_count": 2,
   "metadata": {},
   "outputs": [],
   "source": [
    "vector_urls = []\n",
    "with open(\"Bakugan2.0_urls.txt\") as read_file:\n",
    "    lineas = read_file.readlines()\n",
    "    for linea in lineas:\n",
    "        vector_urls.append(linea.strip('\\n'))"
   ]
  },
  {
   "cell_type": "code",
   "execution_count": 3,
   "metadata": {},
   "outputs": [
    {
     "data": {
      "text/plain": [
       "['https://www.youtube.com/watch?v=JwWJkaGRmHY&list=PLbPoOUqr62_udxjFbhL-TEGw6JO-8QN1f',\n",
       " 'https://www.youtube.com/watch?v=KyGhuPQD1ys&list=PLbPoOUqr62_udxjFbhL-TEGw6JO-8QN1f&index=2',\n",
       " 'https://www.youtube.com/watch?v=BKzTozGG1qM&list=PLbPoOUqr62_udxjFbhL-TEGw6JO-8QN1f&index=3',\n",
       " 'https://www.youtube.com/watch?v=fNvPODkA_uk&list=PLbPoOUqr62_udxjFbhL-TEGw6JO-8QN1f&index=4',\n",
       " 'https://www.youtube.com/watch?v=obvKERBvp4s&list=PLbPoOUqr62_udxjFbhL-TEGw6JO-8QN1f&index=5',\n",
       " 'https://www.youtube.com/watch?v=bPz5BHIVJXU&list=PLbPoOUqr62_udxjFbhL-TEGw6JO-8QN1f&index=6',\n",
       " 'https://www.youtube.com/watch?v=tszcRDcV0tI&list=PLbPoOUqr62_udxjFbhL-TEGw6JO-8QN1f&index=7 ',\n",
       " 'https://www.youtube.com/watch?v=rDGjpKJXdK0&list=PLbPoOUqr62_udxjFbhL-TEGw6JO-8QN1f&index=8',\n",
       " 'https://www.youtube.com/watch?v=Imo1CZ11lhY&list=PLbPoOUqr62_udxjFbhL-TEGw6JO-8QN1f&index=9',\n",
       " 'https://www.youtube.com/watch?v=XwRtc0jX53M&list=PLbPoOUqr62_udxjFbhL-TEGw6JO-8QN1f&index=10',\n",
       " 'https://www.youtube.com/watch?v=xldsarvLI3U&list=PLbPoOUqr62_udxjFbhL-TEGw6JO-8QN1f&index=11',\n",
       " 'https://www.youtube.com/watch?v=3DH2G9J8Shw&list=PLbPoOUqr62_udxjFbhL-TEGw6JO-8QN1f&index=12',\n",
       " 'https://www.youtube.com/watch?v=rImoTIDO0A0&list=PLbPoOUqr62_udxjFbhL-TEGw6JO-8QN1f&index=13',\n",
       " 'https://www.youtube.com/watch?v=cGNGAbyFLKw&list=PLbPoOUqr62_udxjFbhL-TEGw6JO-8QN1f&index=14',\n",
       " 'https://www.youtube.com/watch?v=p4YaxidXPsM&list=PLbPoOUqr62_udxjFbhL-TEGw6JO-8QN1f&index=15',\n",
       " 'https://www.youtube.com/watch?v=qMsz56rbw9w&list=PLbPoOUqr62_udxjFbhL-TEGw6JO-8QN1f&index=16',\n",
       " 'https://www.youtube.com/watch?v=RC78_RDseLw&list=PLbPoOUqr62_udxjFbhL-TEGw6JO-8QN1f&index=17',\n",
       " 'https://www.youtube.com/watch?v=35h1EFeK_ec&list=PLbPoOUqr62_udxjFbhL-TEGw6JO-8QN1f&index=18',\n",
       " 'https://www.youtube.com/watch?v=jxU5Jf0h0h8&list=PLbPoOUqr62_udxjFbhL-TEGw6JO-8QN1f&index=19',\n",
       " 'https://www.youtube.com/watch?v=syKRzjYu5pw&list=PLbPoOUqr62_udxjFbhL-TEGw6JO-8QN1f&index=20',\n",
       " 'https://www.youtube.com/watch?v=bZD7Xum3HDs&list=PLbPoOUqr62_udxjFbhL-TEGw6JO-8QN1f&index=21',\n",
       " 'https://www.youtube.com/watch?v=i5vz0QcleIk&list=PLbPoOUqr62_udxjFbhL-TEGw6JO-8QN1f&index=22',\n",
       " 'https://www.youtube.com/watch?v=PKAfzd7roTk&list=PLbPoOUqr62_udxjFbhL-TEGw6JO-8QN1f&index=23',\n",
       " 'https://www.youtube.com/watch?v=brzjTx5oLUo&list=PLbPoOUqr62_udxjFbhL-TEGw6JO-8QN1f&index=24',\n",
       " 'https://www.youtube.com/watch?v=jx3pPCIAQ5g&list=PLbPoOUqr62_udxjFbhL-TEGw6JO-8QN1f&index=25',\n",
       " 'https://www.youtube.com/watch?v=BHJDk-x0SRY&list=PLbPoOUqr62_udxjFbhL-TEGw6JO-8QN1f&index=26',\n",
       " 'https://www.youtube.com/watch?v=En7ZMFoAEns&list=PLbPoOUqr62_udxjFbhL-TEGw6JO-8QN1f&index=27',\n",
       " 'https://www.youtube.com/watch?v=NoOqBJ-WJIE&list=PLbPoOUqr62_udxjFbhL-TEGw6JO-8QN1f&index=28',\n",
       " 'https://www.youtube.com/watch?v=KJIdnS-efQA&list=PLbPoOUqr62_udxjFbhL-TEGw6JO-8QN1f&index=29',\n",
       " 'https://www.youtube.com/watch?v=lJ1BCgTbJrc&list=PLbPoOUqr62_udxjFbhL-TEGw6JO-8QN1f&index=30',\n",
       " 'https://www.youtube.com/watch?v=BUpxCIkOHxc&list=PLbPoOUqr62_udxjFbhL-TEGw6JO-8QN1f&index=31',\n",
       " 'https://www.youtube.com/watch?v=PnfcefhwjsA&list=PLbPoOUqr62_udxjFbhL-TEGw6JO-8QN1f&index=32',\n",
       " 'https://www.youtube.com/watch?v=ku70bySDVaY&list=PLbPoOUqr62_udxjFbhL-TEGw6JO-8QN1f&index=33',\n",
       " 'https://www.youtube.com/watch?v=7SgWAXjLxkQ&list=PLbPoOUqr62_udxjFbhL-TEGw6JO-8QN1f&index=34',\n",
       " 'https://www.youtube.com/watch?v=ILzM90u0IBY&list=PLbPoOUqr62_udxjFbhL-TEGw6JO-8QN1f&index=35',\n",
       " 'https://www.youtube.com/watch?v=u-7ToP-p4F8&list=PLbPoOUqr62_udxjFbhL-TEGw6JO-8QN1f&index=36',\n",
       " 'https://www.youtube.com/watch?v=VH4oC4MQDWs&list=PLbPoOUqr62_udxjFbhL-TEGw6JO-8QN1f&index=37',\n",
       " 'https://www.youtube.com/watch?v=KP0DZQ3gdjQ&list=PLbPoOUqr62_udxjFbhL-TEGw6JO-8QN1f&index=38',\n",
       " 'https://www.youtube.com/watch?v=kn2BvBMMWn8&list=PLbPoOUqr62_udxjFbhL-TEGw6JO-8QN1f&index=39',\n",
       " 'https://www.youtube.com/watch?v=8yT5rXJVi5s&list=PLbPoOUqr62_udxjFbhL-TEGw6JO-8QN1f&index=40',\n",
       " 'https://www.youtube.com/watch?v=IuMzpfbBPpg&list=PLbPoOUqr62_udxjFbhL-TEGw6JO-8QN1f&index=41',\n",
       " 'https://www.youtube.com/watch?v=T0h122Javq8&list=PLbPoOUqr62_udxjFbhL-TEGw6JO-8QN1f&index=42',\n",
       " 'https://www.youtube.com/watch?v=UK1uD69_LCk&list=PLbPoOUqr62_udxjFbhL-TEGw6JO-8QN1f&index=43',\n",
       " 'https://www.youtube.com/watch?v=ZlCNxMa27lc&list=PLbPoOUqr62_udxjFbhL-TEGw6JO-8QN1f&index=44',\n",
       " 'https://www.youtube.com/watch?v=PmRvG11kV0o&list=PLbPoOUqr62_udxjFbhL-TEGw6JO-8QN1f&index=45',\n",
       " 'https://www.youtube.com/watch?v=SwFEiUflWy0&list=PLbPoOUqr62_udxjFbhL-TEGw6JO-8QN1f&index=46',\n",
       " 'https://www.youtube.com/watch?v=BTCE9nELJyU&list=PLbPoOUqr62_udxjFbhL-TEGw6JO-8QN1f&index=47',\n",
       " 'https://www.youtube.com/watch?v=AxcS0fBlsfg&list=PLbPoOUqr62_udxjFbhL-TEGw6JO-8QN1f&index=48',\n",
       " 'https://www.youtube.com/watch?v=luNjOWMqQ8Q&list=PLbPoOUqr62_udxjFbhL-TEGw6JO-8QN1f&index=49',\n",
       " 'https://www.youtube.com/watch?v=_rePRGVq3H0&list=PLbPoOUqr62_udxjFbhL-TEGw6JO-8QN1f&index=50',\n",
       " 'https://www.youtube.com/watch?v=LgrHxvsVQq0&list=PLbPoOUqr62_udxjFbhL-TEGw6JO-8QN1f&index=51',\n",
       " 'https://www.youtube.com/watch?v=z5CZ9iMQk5U&list=PLbPoOUqr62_udxjFbhL-TEGw6JO-8QN1f&index=52']"
      ]
     },
     "execution_count": 3,
     "metadata": {},
     "output_type": "execute_result"
    }
   ],
   "source": [
    "vector_urls"
   ]
  },
  {
   "cell_type": "code",
   "execution_count": null,
   "metadata": {},
   "outputs": [],
   "source": [
    "vector_urls[9]"
   ]
  },
  {
   "cell_type": "code",
   "execution_count": null,
   "metadata": {},
   "outputs": [],
   "source": [
    "for i in range(0,20):\n",
    "    print(vector_urls[i])"
   ]
  },
  {
   "cell_type": "code",
   "execution_count": null,
   "metadata": {},
   "outputs": [],
   "source": [
    "for i in range(45,52):\n",
    "    print(vector_urls[i])\n",
    "    descarga(vector_urls[i])"
   ]
  },
  {
   "cell_type": "code",
   "execution_count": 4,
   "metadata": {},
   "outputs": [
    {
     "name": "stdout",
     "output_type": "stream",
     "text": [
      "DIGIMON LA PELICULA LATINO\n"
     ]
    }
   ],
   "source": [
    "x = \"https://www.youtube.com/watch?v=oW99qiy9V9g\"\n",
    "descarga(x)"
   ]
  },
  {
   "cell_type": "code",
   "execution_count": null,
   "metadata": {},
   "outputs": [],
   "source": []
  }
 ],
 "metadata": {
  "interpreter": {
   "hash": "b0315d2503287fe28d423986d9df57cc636c96d352d856ed8482261c6a0650c5"
  },
  "kernelspec": {
   "display_name": "Python 3.8.7 64-bit",
   "name": "python3"
  },
  "language_info": {
   "codemirror_mode": {
    "name": "ipython",
    "version": 3
   },
   "file_extension": ".py",
   "mimetype": "text/x-python",
   "name": "python",
   "nbconvert_exporter": "python",
   "pygments_lexer": "ipython3",
   "version": "3.8.7"
  },
  "metadata": {
   "interpreter": {
    "hash": "b0315d2503287fe28d423986d9df57cc636c96d352d856ed8482261c6a0650c5"
   }
  },
  "orig_nbformat": 2
 },
 "nbformat": 4,
 "nbformat_minor": 2
}
